{
 "cells": [
  {
   "cell_type": "code",
   "execution_count": 1,
   "metadata": {},
   "outputs": [],
   "source": [
    "from pathlib import Path\n",
    "from PIL import Image\n",
    "import shutil\n",
    "import os"
   ]
  },
  {
   "cell_type": "code",
   "execution_count": 2,
   "metadata": {},
   "outputs": [],
   "source": [
    "DATASET_PATH = Path(Path.cwd())"
   ]
  },
  {
   "cell_type": "code",
   "execution_count": 3,
   "metadata": {},
   "outputs": [],
   "source": [
    "def create_files_list(folder):\n",
    "    path = DATASET_PATH / folder\n",
    "    \n",
    "    with open(DATASET_PATH / f'fruits_{path.name}.txt', 'w') as list_file:\n",
    "        for file in path.iterdir():\n",
    "            if file.name.endswith('.jpg'):\n",
    "                list_file.write('/content/PyTorch-Fruit-Recognition/dataset/images/' + file.parent.name + '/' + file.name +'\\n')"
   ]
  },
  {
   "cell_type": "code",
   "execution_count": 4,
   "metadata": {},
   "outputs": [],
   "source": [
    "def change_labels(folder):\n",
    "    path = DATASET_PATH / folder\n",
    "    \n",
    "    switcher = {\n",
    "        'apple': 0,\n",
    "        'banana': 1,\n",
    "        'broccoli': 2,\n",
    "        'cabbage': 3,\n",
    "        'carrot': 4,\n",
    "        'cucumber': 5,\n",
    "        'grape': 6,\n",
    "        'grapefruit': 7,\n",
    "        'lemon': 8,\n",
    "        'mango': 9,\n",
    "        'orange': 10,\n",
    "        'peach': 11,\n",
    "        'pear': 12,\n",
    "        'pineapple': 13,\n",
    "        'pomegranate': 14,\n",
    "        'potato': 15,\n",
    "        'strawberry': 16,\n",
    "        'tomato': 17,\n",
    "        'watermelon': 18\n",
    "    }\n",
    "    \n",
    "    for file in path.iterdir():\n",
    "        if file.name.endswith('.txt'):\n",
    "            new_file_content = ''\n",
    "            with open(file, 'r') as reading_file:\n",
    "                for line in reading_file.readlines():\n",
    "                    options = line.split(' ')\n",
    "                    \n",
    "                    if options[0] in switcher.keys():\n",
    "                        options[0] = str(switcher[options[0]])\n",
    "                    \n",
    "                    img = Image.open(str(file).replace('labels', 'images').replace(os.path.splitext(str(file))[-1], '.jpg'))\n",
    "                    w, h = img.size\n",
    "                    opt1 = str((float(options[1])+float(options[3])) / (2*w))\n",
    "                    opt2 = str((float(options[2])+float(options[4])) / (2*h))\n",
    "                    opt3 = str((float(options[3])-float(options[1])) / w)\n",
    "                    opt4 = str((float(options[4])-float(options[2])) / h) + '\\n'\n",
    "                    options[1] = opt1\n",
    "                    options[2] = opt2\n",
    "                    options[3] = opt3\n",
    "                    options[4] = opt4\n",
    "                    new_line = ' '.join(options)\n",
    "                    new_file_content += new_line\n",
    "\n",
    "            with open(file, 'w') as writing_file:\n",
    "                writing_file.write(new_file_content)"
   ]
  },
  {
   "cell_type": "code",
   "execution_count": 5,
   "metadata": {},
   "outputs": [],
   "source": [
    "def change_files_names(folder):\n",
    "    path = DATASET_PATH / folder\n",
    "    \n",
    "    for folder in path.iterdir():\n",
    "        if folder.is_dir():\n",
    "            for file in folder.iterdir():\n",
    "                if file.name.endswith('.jpg'):\n",
    "                    extension = '.jpg'\n",
    "                if file.name.endswith('.txt'):\n",
    "                    extension = '.txt'\n",
    "                os.rename(str(file), str(file.parent) + '/' + str(file.name)[0:-4] + file.parent.name + extension)"
   ]
  },
  {
   "cell_type": "code",
   "execution_count": 6,
   "metadata": {},
   "outputs": [],
   "source": [
    "def move_files(folder):\n",
    "    path = DATASET_PATH / folder\n",
    "    \n",
    "    for folder in path.iterdir():\n",
    "        if folder.is_dir():\n",
    "            for file in folder.iterdir():\n",
    "                shutil.move(str(file), str(folder.parent) + '/' + file.name)\n",
    "            folder.rmdir()"
   ]
  },
  {
   "cell_type": "code",
   "execution_count": 6,
   "metadata": {},
   "outputs": [],
   "source": [
    "def function(in_, out):\n",
    "    input_path = DATASET_PATH / in_\n",
    "    output_path = DATASET_PATH / out\n",
    "    \n",
    "    for folder in input_path.iterdir():\n",
    "        for file in folder.iterdir():\n",
    "            if file.is_dir() and file.name == 'labels':\n",
    "                for label in file.iterdir():\n",
    "                    shutil.move(str(label), str(output_path) + '/' + str(folder.name) + '/' + label.name)\n",
    "                file.rmdir()"
   ]
  },
  {
   "cell_type": "code",
   "execution_count": 7,
   "metadata": {},
   "outputs": [],
   "source": [
    "function('images/validation', 'labels/validation')"
   ]
  },
  {
   "cell_type": "code",
   "execution_count": 8,
   "metadata": {},
   "outputs": [],
   "source": [
    "function('images/train', 'labels/train')"
   ]
  },
  {
   "cell_type": "code",
   "execution_count": 9,
   "metadata": {},
   "outputs": [],
   "source": [
    "function('images/test', 'labels/test')"
   ]
  },
  {
   "cell_type": "code",
   "execution_count": 34,
   "metadata": {},
   "outputs": [],
   "source": [
    "create_files_list('images/train')"
   ]
  },
  {
   "cell_type": "code",
   "execution_count": 35,
   "metadata": {},
   "outputs": [],
   "source": [
    "create_files_list('images/validation')"
   ]
  },
  {
   "cell_type": "code",
   "execution_count": 36,
   "metadata": {},
   "outputs": [],
   "source": [
    "create_files_list('images/test')"
   ]
  },
  {
   "cell_type": "code",
   "execution_count": 9,
   "metadata": {},
   "outputs": [],
   "source": [
    "change_labels('labels/train')"
   ]
  },
  {
   "cell_type": "code",
   "execution_count": 10,
   "metadata": {},
   "outputs": [],
   "source": [
    "change_labels('labels/validation')"
   ]
  },
  {
   "cell_type": "code",
   "execution_count": 11,
   "metadata": {},
   "outputs": [],
   "source": [
    "change_labels('labels/test')"
   ]
  },
  {
   "cell_type": "code",
   "execution_count": 14,
   "metadata": {},
   "outputs": [],
   "source": [
    "change_files_names('images/train')\n",
    "change_files_names('images/validation')\n",
    "change_files_names('images/test')"
   ]
  },
  {
   "cell_type": "code",
   "execution_count": 7,
   "metadata": {},
   "outputs": [],
   "source": [
    "change_files_names('labels/train')\n",
    "change_files_names('labels/validation')\n",
    "change_files_names('labels/test')"
   ]
  },
  {
   "cell_type": "code",
   "execution_count": 16,
   "metadata": {},
   "outputs": [],
   "source": [
    "move_files('images/train')"
   ]
  },
  {
   "cell_type": "code",
   "execution_count": 17,
   "metadata": {},
   "outputs": [],
   "source": [
    "move_files('images/validation')"
   ]
  },
  {
   "cell_type": "code",
   "execution_count": 18,
   "metadata": {},
   "outputs": [],
   "source": [
    "move_files('images/test')"
   ]
  },
  {
   "cell_type": "code",
   "execution_count": 8,
   "metadata": {},
   "outputs": [],
   "source": [
    "move_files('labels/train')\n",
    "move_files('labels/validation')\n",
    "move_files('labels/test')"
   ]
  },
  {
   "cell_type": "code",
   "execution_count": 13,
   "metadata": {},
   "outputs": [],
   "source": [
    "change_classes_in_labels('labels/validation')"
   ]
  },
  {
   "cell_type": "code",
   "execution_count": null,
   "metadata": {},
   "outputs": [],
   "source": []
  }
 ],
 "metadata": {
  "kernelspec": {
   "display_name": "Python 3",
   "language": "python",
   "name": "python3"
  },
  "language_info": {
   "codemirror_mode": {
    "name": "ipython",
    "version": 3
   },
   "file_extension": ".py",
   "mimetype": "text/x-python",
   "name": "python",
   "nbconvert_exporter": "python",
   "pygments_lexer": "ipython3",
   "version": "3.8.2"
  }
 },
 "nbformat": 4,
 "nbformat_minor": 4
}
