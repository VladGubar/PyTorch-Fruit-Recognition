{
 "cells": [
  {
   "cell_type": "code",
   "execution_count": 27,
   "metadata": {},
   "outputs": [],
   "source": [
    "from pathlib import Path\n",
    "from PIL import Image\n",
    "import shutil\n",
    "import os"
   ]
  },
  {
   "cell_type": "code",
   "execution_count": 28,
   "metadata": {},
   "outputs": [],
   "source": [
    "DATASET_PATH = Path(Path.cwd())"
   ]
  },
  {
   "cell_type": "code",
   "execution_count": 33,
   "metadata": {},
   "outputs": [],
   "source": [
    "def create_files_list(folder):\n",
    "    path = DATASET_PATH / folder\n",
    "    \n",
    "    with open(DATASET_PATH / f'fruits_{path.name}.txt', 'w') as list_file:\n",
    "        for file in path.iterdir():\n",
    "            if file.name.endswith('.jpg'):\n",
    "                list_file.write('/content/PyTorch-Fruit-Recognition/dataset/images/' + file.parent.name + '/' + file.name +'\\n')"
   ]
  },
  {
   "cell_type": "code",
   "execution_count": 23,
   "metadata": {},
   "outputs": [],
   "source": [
    "def change_labels(folder):\n",
    "    path = DATASET_PATH / folder\n",
    "    \n",
    "    switcher = {}\n",
    "    class_number = 0\n",
    "    \n",
    "    for file in path.iterdir():\n",
    "        if file.name.endswith('.txt'):\n",
    "            new_file_content = ''\n",
    "            with open(file, 'r') as reading_file:\n",
    "                for line in reading_file.readlines():\n",
    "                    options = line.split(' ')\n",
    "                    if options[0] not in switcher.keys():\n",
    "                        switcher[options[0]] = str(class_number)\n",
    "                        class_number += 1\n",
    "                    options[0] = switcher[options[0]]\n",
    "                    \n",
    "                    img = Image.open(str(file).replace('labels', 'images').replace(os.path.splitext(str(file))[-1], '.jpg'))\n",
    "                    w, h = img.size\n",
    "                    if float(options[1]) > 1:\n",
    "                        options[1] = str((float(options[1])+float(options[3])) / (2*w))\n",
    "                    if float(options[2]) > 1:\n",
    "                        options[2] = str((float(options[2])+float(options[4])) / (2*h))\n",
    "                    if float(options[3]) > 1:\n",
    "                        options[3] = str((float(options[3])-float(options[1])) / w)\n",
    "                    if float(options[4]) > 1:\n",
    "                        options[4] = str((float(options[4])-float(options[2])) / h)\n",
    "                    new_line = ' '.join(options) + '\\n'\n",
    "                    new_file_content += new_line\n",
    "\n",
    "            with open(file, 'w') as writing_file:\n",
    "                writing_file.write(new_file_content)"
   ]
  },
  {
   "cell_type": "code",
   "execution_count": 11,
   "metadata": {},
   "outputs": [],
   "source": [
    "def change_files_names(folder):\n",
    "    path = DATASET_PATH / folder\n",
    "    \n",
    "    for folder in path.iterdir():\n",
    "        if folder.is_dir():\n",
    "            for file in folder.iterdir():\n",
    "                if file.name.endswith('.jpg'):\n",
    "                    extension = '.jpg'\n",
    "                if file.name.endswith('.txt'):\n",
    "                    extension = '.txt'\n",
    "                os.rename(str(file), str(file.parent) + '/' + str(file.name)[0:-4] + file.parent.name + extension)"
   ]
  },
  {
   "cell_type": "code",
   "execution_count": 12,
   "metadata": {},
   "outputs": [],
   "source": [
    "def move_files(folder):\n",
    "    path = DATASET_PATH / folder\n",
    "    \n",
    "    for folder in path.iterdir():\n",
    "        if folder.is_dir():\n",
    "            for file in folder.iterdir():\n",
    "                shutil.move(str(file), str(folder.parent) + '/' + file.name)\n",
    "            folder.rmdir()"
   ]
  },
  {
   "cell_type": "code",
   "execution_count": 6,
   "metadata": {},
   "outputs": [],
   "source": [
    "def function(in_, out):\n",
    "    input_path = DATASET_PATH / in_\n",
    "    output_path = DATASET_PATH / out\n",
    "    \n",
    "    for folder in input_path.iterdir():\n",
    "        for file in folder.iterdir():\n",
    "            if file.is_dir() and file.name == 'labels':\n",
    "                for label in file.iterdir():\n",
    "                    shutil.move(str(label), str(output_path) + '/' + str(folder.name) + '/' + label.name)\n",
    "                file.rmdir()"
   ]
  },
  {
   "cell_type": "code",
   "execution_count": 7,
   "metadata": {},
   "outputs": [],
   "source": [
    "function('images/validation', 'labels/validation')"
   ]
  },
  {
   "cell_type": "code",
   "execution_count": 8,
   "metadata": {},
   "outputs": [],
   "source": [
    "function('images/train', 'labels/train')"
   ]
  },
  {
   "cell_type": "code",
   "execution_count": 9,
   "metadata": {},
   "outputs": [],
   "source": [
    "function('images/test', 'labels/test')"
   ]
  },
  {
   "cell_type": "code",
   "execution_count": 34,
   "metadata": {},
   "outputs": [],
   "source": [
    "create_files_list('images/train')"
   ]
  },
  {
   "cell_type": "code",
   "execution_count": 35,
   "metadata": {},
   "outputs": [],
   "source": [
    "create_files_list('images/validation')"
   ]
  },
  {
   "cell_type": "code",
   "execution_count": 36,
   "metadata": {},
   "outputs": [],
   "source": [
    "create_files_list('images/test')"
   ]
  },
  {
   "cell_type": "code",
   "execution_count": 24,
   "metadata": {},
   "outputs": [],
   "source": [
    "change_labels('labels/train')"
   ]
  },
  {
   "cell_type": "code",
   "execution_count": 25,
   "metadata": {},
   "outputs": [],
   "source": [
    "change_labels('labels/validation')"
   ]
  },
  {
   "cell_type": "code",
   "execution_count": 26,
   "metadata": {},
   "outputs": [],
   "source": [
    "change_labels('labels/test')"
   ]
  },
  {
   "cell_type": "code",
   "execution_count": 14,
   "metadata": {},
   "outputs": [],
   "source": [
    "change_files_names('images/train')\n",
    "change_files_names('images/validation')\n",
    "change_files_names('images/test')"
   ]
  },
  {
   "cell_type": "code",
   "execution_count": 15,
   "metadata": {},
   "outputs": [],
   "source": [
    "change_files_names('labels/train')\n",
    "change_files_names('labels/validation')\n",
    "change_files_names('labels/test')"
   ]
  },
  {
   "cell_type": "code",
   "execution_count": 16,
   "metadata": {},
   "outputs": [],
   "source": [
    "move_files('images/train')"
   ]
  },
  {
   "cell_type": "code",
   "execution_count": 17,
   "metadata": {},
   "outputs": [],
   "source": [
    "move_files('images/validation')"
   ]
  },
  {
   "cell_type": "code",
   "execution_count": 18,
   "metadata": {},
   "outputs": [],
   "source": [
    "move_files('images/test')"
   ]
  },
  {
   "cell_type": "code",
   "execution_count": 19,
   "metadata": {},
   "outputs": [],
   "source": [
    "move_files('labels/train')\n",
    "move_files('labels/validation')\n",
    "move_files('labels/test')"
   ]
  },
  {
   "cell_type": "code",
   "execution_count": null,
   "metadata": {},
   "outputs": [],
   "source": []
  }
 ],
 "metadata": {
  "kernelspec": {
   "display_name": "Python 3",
   "language": "python",
   "name": "python3"
  },
  "language_info": {
   "codemirror_mode": {
    "name": "ipython",
    "version": 3
   },
   "file_extension": ".py",
   "mimetype": "text/x-python",
   "name": "python",
   "nbconvert_exporter": "python",
   "pygments_lexer": "ipython3",
   "version": "3.8.2"
  }
 },
 "nbformat": 4,
 "nbformat_minor": 4
}
