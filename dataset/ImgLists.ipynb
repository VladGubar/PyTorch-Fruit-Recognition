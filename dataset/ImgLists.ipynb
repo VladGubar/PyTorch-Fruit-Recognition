{
 "cells": [
  {
   "cell_type": "code",
   "execution_count": 126,
   "metadata": {},
   "outputs": [],
   "source": [
    "from pathlib import Path\n",
    "from PIL import Image\n",
    "import os"
   ]
  },
  {
   "cell_type": "code",
   "execution_count": 127,
   "metadata": {},
   "outputs": [],
   "source": [
    "DATASET_PATH = Path(Path.cwd())"
   ]
  },
  {
   "cell_type": "code",
   "execution_count": 128,
   "metadata": {},
   "outputs": [],
   "source": [
    "def create_files_list(folder):\n",
    "    path = DATASET_PATH / folder\n",
    "    \n",
    "    with open(DATASET_PATH / f'fruits_{path.name}.txt', 'w') as list_file:\n",
    "        for folder in path.iterdir():\n",
    "            if folder.is_dir():\n",
    "                for file in folder.iterdir():\n",
    "                    if file.name.endswith('.jpg'):\n",
    "                        list_file.write(str(file) + '\\n')"
   ]
  },
  {
   "cell_type": "code",
   "execution_count": 129,
   "metadata": {},
   "outputs": [],
   "source": [
    "def change_classes_names(folder):\n",
    "    path = DATASET_PATH / folder\n",
    "    \n",
    "    switcher = {}\n",
    "    class_number = 0\n",
    "    \n",
    "    for folder in path.iterdir():\n",
    "        if folder.is_dir():\n",
    "            for file in folder.iterdir():\n",
    "                if file.name.endswith('.txt'):\n",
    "                    new_file_content = ''\n",
    "                    with open(file, 'r') as reading_file:\n",
    "                        for line in reading_file.readlines():\n",
    "                            options = line.split(' ')\n",
    "                            if folder.name not in switcher.keys():\n",
    "                                switcher[folder.name] = str(class_number)\n",
    "                                class_number += 1\n",
    "                            options[0] = switcher[folder.name]\n",
    "                            \n",
    "                            img = Image.open(str(file).replace('labels', 'images').replace(os.path.splitext(str(file))[-1], '.jpg'))\n",
    "                            w, h = img.size\n",
    "                            if float(options[1]) > 1:\n",
    "                                options[1] = str(float(options[1]) / w)\n",
    "                            if float(options[2]) > 1:\n",
    "                                options[2] = str(float(options[2]) / h)\n",
    "                            if float(options[3]) > 1:\n",
    "                                options[3] = str(float(options[3]) / w)\n",
    "                            if float(options[4]) > 1:\n",
    "                                options[4] = str(float(options[4]) / h)\n",
    "                            new_line = ' '.join(options) + '\\n'\n",
    "                            new_file_content += new_line\n",
    "\n",
    "                    with open(file, 'w') as writing_file:\n",
    "                        writing_file.write(new_file_content)"
   ]
  },
  {
   "cell_type": "code",
   "execution_count": 99,
   "metadata": {},
   "outputs": [],
   "source": [
    "create_files_list('images/train')"
   ]
  },
  {
   "cell_type": "code",
   "execution_count": 100,
   "metadata": {},
   "outputs": [],
   "source": [
    "create_files_list('images/validation')"
   ]
  },
  {
   "cell_type": "code",
   "execution_count": 101,
   "metadata": {},
   "outputs": [],
   "source": [
    "create_files_list('images/test')"
   ]
  },
  {
   "cell_type": "code",
   "execution_count": null,
   "metadata": {},
   "outputs": [],
   "source": [
    "change_classes_names('labels/train')"
   ]
  },
  {
   "cell_type": "code",
   "execution_count": 124,
   "metadata": {},
   "outputs": [],
   "source": [
    "change_classes_names('labels/validation')"
   ]
  },
  {
   "cell_type": "code",
   "execution_count": 125,
   "metadata": {},
   "outputs": [],
   "source": [
    "change_classes_names('labels/test')"
   ]
  },
  {
   "cell_type": "code",
   "execution_count": null,
   "metadata": {},
   "outputs": [],
   "source": []
  }
 ],
 "metadata": {
  "kernelspec": {
   "display_name": "Python 3",
   "language": "python",
   "name": "python3"
  },
  "language_info": {
   "codemirror_mode": {
    "name": "ipython",
    "version": 3
   },
   "file_extension": ".py",
   "mimetype": "text/x-python",
   "name": "python",
   "nbconvert_exporter": "python",
   "pygments_lexer": "ipython3",
   "version": "3.7.6"
  }
 },
 "nbformat": 4,
 "nbformat_minor": 4
}
