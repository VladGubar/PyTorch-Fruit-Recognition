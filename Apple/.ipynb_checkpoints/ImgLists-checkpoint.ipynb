{
 "cells": [
  {
   "cell_type": "code",
   "execution_count": 1,
   "metadata": {},
   "outputs": [],
   "source": [
    "from pathlib import Path\n",
    "from PIL import Image\n",
    "import shutil\n",
    "import os"
   ]
  },
  {
   "cell_type": "code",
   "execution_count": 2,
   "metadata": {},
   "outputs": [],
   "source": [
    "DATASET_PATH = Path(Path.cwd())"
   ]
  },
  {
   "cell_type": "code",
   "execution_count": 14,
   "metadata": {},
   "outputs": [],
   "source": [
    "def create_files_list(folder):\n",
    "    path = DATASET_PATH / folder\n",
    "    \n",
    "    with open(DATASET_PATH / f'apple_{path.name}.txt', 'w') as list_file:\n",
    "        for file in path.iterdir():\n",
    "            if file.name.endswith('.jpg'):\n",
    "                list_file.write('/content/PyTorch-Fruit-Recognition/Apple/images/' + file.parent.name + '/' + file.name +'\\n')"
   ]
  },
  {
   "cell_type": "code",
   "execution_count": 22,
   "metadata": {},
   "outputs": [],
   "source": [
    "def change_labels(folder):\n",
    "    path = DATASET_PATH / folder\n",
    "    \n",
    "    switcher = {\n",
    "        'apple': 0,\n",
    "    }\n",
    "    \n",
    "    for file in path.iterdir():\n",
    "        if file.name.endswith('.txt'):\n",
    "            new_file_content = ''\n",
    "            with open(file, 'r') as reading_file:\n",
    "                for line in reading_file.readlines():\n",
    "                    options = line.split(' ')\n",
    "                    \n",
    "                    if options[0] in switcher.keys():\n",
    "                        options[0] = str(switcher[options[0]])\n",
    "                    \n",
    "                    img = Image.open(str(file).replace('labels', 'images').replace(os.path.splitext(str(file))[-1], '.jpg'))\n",
    "                    w, h = img.size\n",
    "                    opt1 = str((float(options[1])+float(options[3])) / (2*w))\n",
    "                    opt2 = str((float(options[2])+float(options[4])) / (2*h))\n",
    "                    opt3 = str((float(options[3])-float(options[1])) / w)\n",
    "                    opt4 = str((float(options[4])-float(options[2])) / h) + '\\n'\n",
    "                    options[1] = opt1\n",
    "                    options[2] = opt2\n",
    "                    options[3] = opt3\n",
    "                    options[4] = opt4\n",
    "                    new_line = ' '.join(options)\n",
    "                    new_file_content += new_line\n",
    "\n",
    "            with open(file, 'w') as writing_file:\n",
    "                writing_file.write(new_file_content)"
   ]
  },
  {
   "cell_type": "code",
   "execution_count": 15,
   "metadata": {},
   "outputs": [],
   "source": [
    "create_files_list('images/train')"
   ]
  },
  {
   "cell_type": "code",
   "execution_count": 16,
   "metadata": {},
   "outputs": [],
   "source": [
    "create_files_list('images/validation')"
   ]
  },
  {
   "cell_type": "code",
   "execution_count": 17,
   "metadata": {},
   "outputs": [],
   "source": [
    "create_files_list('images/test')"
   ]
  },
  {
   "cell_type": "code",
   "execution_count": 23,
   "metadata": {},
   "outputs": [],
   "source": [
    "change_labels('labels/train')"
   ]
  },
  {
   "cell_type": "code",
   "execution_count": 24,
   "metadata": {},
   "outputs": [],
   "source": [
    "change_labels('labels/validation')"
   ]
  },
  {
   "cell_type": "code",
   "execution_count": 25,
   "metadata": {},
   "outputs": [],
   "source": [
    "change_labels('labels/test')"
   ]
  },
  {
   "cell_type": "code",
   "execution_count": null,
   "metadata": {},
   "outputs": [],
   "source": []
  }
 ],
 "metadata": {
  "kernelspec": {
   "display_name": "Python 3",
   "language": "python",
   "name": "python3"
  },
  "language_info": {
   "codemirror_mode": {
    "name": "ipython",
    "version": 3
   },
   "file_extension": ".py",
   "mimetype": "text/x-python",
   "name": "python",
   "nbconvert_exporter": "python",
   "pygments_lexer": "ipython3",
   "version": "3.8.2"
  }
 },
 "nbformat": 4,
 "nbformat_minor": 4
}
